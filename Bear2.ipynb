{
  "cells": [
    {
      "cell_type": "code",
      "execution_count": null,
      "metadata": {
        "id": "htaUb0YybqFt"
      },
      "outputs": [],
      "source": [
        "#hide\n",
        "from fastbook import *\n",
        "from fastai.vision.widgets import *"
      ]
    },
    {
      "cell_type": "code",
      "execution_count": null,
      "metadata": {
        "id": "5arByw0rbqGQ",
        "outputId": "2230c59d-7628-45fc-f766-c83d8e35b6af"
      },
      "outputs": [
        {
          "data": {
            "text/plain": [
              "(#1) [Path('export.pkl')]"
            ]
          },
          "execution_count": null,
          "metadata": {},
          "output_type": "execute_result"
        }
      ],
      "source": [
        "path = Path()"
      ]
    },
    {
      "cell_type": "code",
      "execution_count": null,
      "metadata": {
        "id": "el6CDWw2bqGR"
      },
      "outputs": [],
      "source": [
        "learn_inf = load_learner(path/'export.pkl', cpu=True)"
      ]
    },
    {
      "cell_type": "code",
      "execution_count": null,
      "metadata": {
        "colab": {
          "referenced_widgets": [
            "e0c4141e3c76425c98ae9994ccf9a748"
          ]
        },
        "id": "mNX44Ye_bqGT",
        "outputId": "92b756d5-30e0-4631-fe2b-bcd9b0b56c73"
      },
      "outputs": [
        {
          "data": {
            "application/vnd.jupyter.widget-view+json": {
              "model_id": "e0c4141e3c76425c98ae9994ccf9a748",
              "version_major": 2,
              "version_minor": 0
            },
            "text/plain": [
              "FileUpload(value={}, description='Upload')"
            ]
          },
          "metadata": {},
          "output_type": "display_data"
        }
      ],
      "source": [
        "#hide_output\n",
        "btn_upload = widgets.FileUpload()"
      ]
    },
    {
      "cell_type": "code",
      "execution_count": null,
      "metadata": {
        "id": "RQ2OkxoXbqGY"
      },
      "outputs": [],
      "source": [
        "#hide_output\n",
        "out_pl = widgets.Output()\n",
        "out_pl.clear_output()\n",
        "with out_pl: display(img.to_thumb(128,128))\n",
        "out_pl"
      ]
    },
    {
      "cell_type": "code",
      "execution_count": null,
      "metadata": {
        "colab": {
          "referenced_widgets": [
            "08509e39d3454701b5fed10439970e84"
          ]
        },
        "id": "CBwz4VJsbqGZ",
        "outputId": "3cb07dd3-f6a4-47b8-85c5-417cf9ba0361"
      },
      "outputs": [
        {
          "data": {
            "application/vnd.jupyter.widget-view+json": {
              "model_id": "08509e39d3454701b5fed10439970e84",
              "version_major": 2,
              "version_minor": 0
            },
            "text/plain": [
              "Label(value='Prediction: grizzly; Probability: 1.0000')"
            ]
          },
          "metadata": {},
          "output_type": "display_data"
        }
      ],
      "source": [
        "#hide_output\n",
        "lbl_pred = widgets.Label()"
      ]
    },
    {
      "cell_type": "code",
      "execution_count": null,
      "metadata": {
        "colab": {
          "referenced_widgets": [
            "5948c2dc026d43cb9afdce7dee8fa425"
          ]
        },
        "id": "5nwkt_iubqGa",
        "outputId": "c4b84240-4a75-4ef3-d551-a0ab247fc065"
      },
      "outputs": [
        {
          "data": {
            "application/vnd.jupyter.widget-view+json": {
              "model_id": "5948c2dc026d43cb9afdce7dee8fa425",
              "version_major": 2,
              "version_minor": 0
            },
            "text/plain": [
              "Button(description='Classify', style=ButtonStyle())"
            ]
          },
          "metadata": {},
          "output_type": "display_data"
        }
      ],
      "source": [
        "#hide_output\n",
        "btn_run = widgets.Button(description='Classify')"
      ]
    },
    {
      "cell_type": "code",
      "execution_count": null,
      "metadata": {
        "id": "SYn3iCkmbqGa"
      },
      "outputs": [],
      "source": [
        "def on_click_classify(change):\n",
        "    img = PILImage.create(btn_upload.data[-1])\n",
        "    out_pl.clear_output()\n",
        "    with out_pl: display(img.to_thumb(128,128))\n",
        "    pred,pred_idx,probs = learn_inf.predict(img)\n",
        "    lbl_pred.value = f'Prediction: {pred}; Probability: {probs[pred_idx]:.04f}'\n",
        "\n",
        "btn_run.on_click(on_click_classify)"
      ]
    },
    {
      "cell_type": "code",
      "execution_count": null,
      "metadata": {
        "id": "JKgIvTxDbqGb"
      },
      "outputs": [],
      "source": [
        "#hide\n",
        "#Putting back btn_upload to a widget for next cell\n",
        "btn_upload = widgets.FileUpload()"
      ]
    },
    {
      "cell_type": "code",
      "execution_count": null,
      "metadata": {
        "colab": {
          "referenced_widgets": [
            "e9e7b05555a44125ac0e5365e17ea59d"
          ]
        },
        "id": "yQBuX8MNbqGb",
        "outputId": "405034af-2e20-4297-df07-196b668db458"
      },
      "outputs": [
        {
          "data": {
            "application/vnd.jupyter.widget-view+json": {
              "model_id": "e9e7b05555a44125ac0e5365e17ea59d",
              "version_major": 2,
              "version_minor": 0
            },
            "text/plain": [
              "VBox(children=(Label(value='Select your bear!'), FileUpload(value={}, description='Upload'), Button(descriptio…"
            ]
          },
          "metadata": {},
          "output_type": "display_data"
        }
      ],
      "source": [
        "#hide_output\n",
        "VBox([widgets.Label('Select your bear!'), \n",
        "      btn_upload, btn_run, out_pl, lbl_pred])"
      ]
    }
  ],
  "metadata": {
    "jupytext": {
      "split_at_heading": true
    },
    "kernelspec": {
      "display_name": "Python 3",
      "language": "python",
      "name": "python3"
    },
    "colab": {
      "name": "Copia di 02_production.ipynb",
      "provenance": []
    }
  },
  "nbformat": 4,
  "nbformat_minor": 0
}