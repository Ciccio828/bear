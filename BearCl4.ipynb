{
  "cells": [
    {
      "cell_type": "markdown",
      "metadata": {
        "id": "view-in-github",
        "colab_type": "text"
      },
      "source": [
        "<a href=\"https://colab.research.google.com/github/Ciccio828/bear/blob/master/BearCl4.ipynb\" target=\"_parent\"><img src=\"https://colab.research.google.com/assets/colab-badge.svg\" alt=\"Open In Colab\"/></a>"
      ]
    },
    {
      "cell_type": "code",
      "execution_count": null,
      "metadata": {
        "id": "Q65p-fP1sYio"
      },
      "outputs": [],
      "source": [
        "#hide\n",
        "from fastai.vision.all import *\n",
        "from fastai.vision.widgets import *"
      ]
    },
    {
      "cell_type": "code",
      "execution_count": null,
      "metadata": {
        "id": "Rbq2RQ0dsYjF"
      },
      "outputs": [],
      "source": [
        "path = Path()"
      ]
    },
    {
      "cell_type": "code",
      "execution_count": null,
      "metadata": {
        "id": "cjAJQfo8sYjG"
      },
      "outputs": [],
      "source": [
        "learn_inf = load_learner(path/'export.pkl', cpu=True)"
      ]
    },
    {
      "cell_type": "code",
      "execution_count": null,
      "metadata": {
        "id": "BosEhUI0sYjI"
      },
      "outputs": [],
      "source": [
        "#hide_output\n",
        "btn_upload = widgets.FileUpload()"
      ]
    },
    {
      "cell_type": "code",
      "execution_count": null,
      "metadata": {
        "id": "6AVKLg2YsYjJ"
      },
      "outputs": [],
      "source": [
        "#hide_output\n",
        "out_pl = widgets.Output()\n",
        "lbl_pred = widgets.Label()"
      ]
    },
    {
      "cell_type": "code",
      "execution_count": null,
      "metadata": {
        "id": "Evq6uV9LsYjL"
      },
      "outputs": [],
      "source": [
        "#hide_output\n",
        "btn_run = widgets.Button(description='Classify')"
      ]
    },
    {
      "cell_type": "code",
      "execution_count": null,
      "metadata": {
        "id": "lJY8UqSdsYjL"
      },
      "outputs": [],
      "source": [
        "def on_click_classify(change):\n",
        "    lbl_pred.value = ''\n",
        "    img = PILImage.create(btn_upload.data[-1])\n",
        "    out_pl.clear_output()\n",
        "    with out_pl: display(img.to_thumb(128,128))\n",
        "    pred,pred_idx,probs = learn_inf.predict(img)\n",
        "    lbl_pred.value = f'Prediction: {pred}; Probability: {probs[pred_idx]:.04f}'\n",
        "\n",
        "btn_run.on_click(on_click_classify)"
      ]
    },
    {
      "cell_type": "code",
      "execution_count": null,
      "metadata": {
        "id": "LwikIiEWsYjM"
      },
      "outputs": [],
      "source": [
        "#hide\n",
        "#Putting back btn_upload to a widget for next cell\n",
        "btn_upload = widgets.FileUpload()"
      ]
    },
    {
      "cell_type": "code",
      "execution_count": null,
      "metadata": {
        "colab": {
          "base_uri": "https://localhost:8080/",
          "height": 273,
          "referenced_widgets": [
            "0a7960db13ce4f1b8844b1a0e906ec29",
            "41cb2889291d428a9a404de75aa14cdd",
            "5c94384523654a409e7facfc41811ef9",
            "eb1ec3908189435eb2ad7b8455e28183",
            "e116a69545d849e7abb3f62f16162cd7",
            "32bc86ba723140d696617a572ffeea84",
            "5328f50dd5434c42936e761a0c5c1b79",
            "5d4eda8a09924fe5ab83452e41c057b0",
            "c6d62f093c1c450cb1553c395800b10f",
            "68b11b4edfb54a8495d4a5075a82e1ec",
            "627622756cbc4e9897e3a07891758f33",
            "7a76e4ae035a4de3b2891f65959d7db9",
            "2b6617dcbfd84bcd8e38dbd3216f52b4",
            "01e6b46afa6d491483d1a086de400535",
            "a4515461952543c4be090ab7964efba3",
            "eeb46cc2bd3d4f97ba25a2756d15eccc"
          ]
        },
        "id": "DlDSrjnisYjM",
        "outputId": "8d23c252-9a77-41e8-e569-8cc495339c07"
      },
      "outputs": [
        {
          "output_type": "display_data",
          "data": {
            "application/vnd.jupyter.widget-view+json": {
              "model_id": "0a7960db13ce4f1b8844b1a0e906ec29",
              "version_minor": 0,
              "version_major": 2
            },
            "text/plain": [
              "VBox(children=(Label(value='Select your bear!'), FileUpload(value={}, description='Upload'), Button(descriptio…"
            ]
          },
          "metadata": {}
        },
        {
          "output_type": "display_data",
          "data": {
            "text/html": [
              ""
            ],
            "text/plain": [
              "<IPython.core.display.HTML object>"
            ]
          },
          "metadata": {}
        }
      ],
      "source": [
        "#hide_output\n",
        "VBox([widgets.Label('Select your bear!'), \n",
        "      btn_upload, btn_run, out_pl, lbl_pred])"
      ]
    }
  ],
  "metadata": {
    "jupytext": {
      "split_at_heading": true
    },
    "kernelspec": {
      "display_name": "Python 3",
      "language": "python",
      "name": "python3"
    },
    "colab": {
      "name": "Copia di 02_production.ipynb",
      "provenance": [],
      "include_colab_link": true
    },
    "accelerator": "GPU",
    "widgets": {
      "application/vnd.jupyter.widget-state+json": {
        "0a7960db13ce4f1b8844b1a0e906ec29": {
          "model_module": "@jupyter-widgets/controls",
          "model_name": "VBoxModel",
          "model_module_version": "1.5.0",
          "state": {
            "_view_name": "VBoxView",
            "_dom_classes": [],
            "_model_name": "VBoxModel",
            "_view_module": "@jupyter-widgets/controls",
            "_model_module_version": "1.5.0",
            "_view_count": null,
            "_view_module_version": "1.5.0",
            "box_style": "",
            "layout": "IPY_MODEL_41cb2889291d428a9a404de75aa14cdd",
            "_model_module": "@jupyter-widgets/controls",
            "children": [
              "IPY_MODEL_5c94384523654a409e7facfc41811ef9",
              "IPY_MODEL_eb1ec3908189435eb2ad7b8455e28183",
              "IPY_MODEL_e116a69545d849e7abb3f62f16162cd7",
              "IPY_MODEL_32bc86ba723140d696617a572ffeea84",
              "IPY_MODEL_5328f50dd5434c42936e761a0c5c1b79"
            ]
          }
        },
        "41cb2889291d428a9a404de75aa14cdd": {
          "model_module": "@jupyter-widgets/base",
          "model_name": "LayoutModel",
          "model_module_version": "1.2.0",
          "state": {
            "_view_name": "LayoutView",
            "grid_template_rows": null,
            "right": null,
            "justify_content": null,
            "_view_module": "@jupyter-widgets/base",
            "overflow": null,
            "_model_module_version": "1.2.0",
            "_view_count": null,
            "flex_flow": null,
            "width": null,
            "min_width": null,
            "border": null,
            "align_items": null,
            "bottom": null,
            "_model_module": "@jupyter-widgets/base",
            "top": null,
            "grid_column": null,
            "overflow_y": null,
            "overflow_x": null,
            "grid_auto_flow": null,
            "grid_area": null,
            "grid_template_columns": null,
            "flex": null,
            "_model_name": "LayoutModel",
            "justify_items": null,
            "grid_row": null,
            "max_height": null,
            "align_content": null,
            "visibility": null,
            "align_self": null,
            "height": null,
            "min_height": null,
            "padding": null,
            "grid_auto_rows": null,
            "grid_gap": null,
            "max_width": null,
            "order": null,
            "_view_module_version": "1.2.0",
            "grid_template_areas": null,
            "object_position": null,
            "object_fit": null,
            "grid_auto_columns": null,
            "margin": null,
            "display": null,
            "left": null
          }
        },
        "5c94384523654a409e7facfc41811ef9": {
          "model_module": "@jupyter-widgets/controls",
          "model_name": "LabelModel",
          "model_module_version": "1.5.0",
          "state": {
            "_view_name": "LabelView",
            "style": "IPY_MODEL_5d4eda8a09924fe5ab83452e41c057b0",
            "_dom_classes": [],
            "description": "",
            "_model_name": "LabelModel",
            "placeholder": "​",
            "_view_module": "@jupyter-widgets/controls",
            "_model_module_version": "1.5.0",
            "value": "Select your bear!",
            "_view_count": null,
            "_view_module_version": "1.5.0",
            "description_tooltip": null,
            "_model_module": "@jupyter-widgets/controls",
            "layout": "IPY_MODEL_c6d62f093c1c450cb1553c395800b10f"
          }
        },
        "eb1ec3908189435eb2ad7b8455e28183": {
          "model_module": "@jupyter-widgets/controls",
          "model_name": "FileUploadModel",
          "model_module_version": "1.5.0",
          "state": {
            "_view_name": "FileUploadView",
            "_counter": 1,
            "style": "IPY_MODEL_68b11b4edfb54a8495d4a5075a82e1ec",
            "_dom_classes": [],
            "description": "Upload",
            "multiple": false,
            "_model_name": "FileUploadModel",
            "data": [
              null
            ],
            "button_style": "",
            "_view_module": "@jupyter-widgets/controls",
            "_model_module_version": "1.5.0",
            "accept": "",
            "_view_count": null,
            "disabled": false,
            "_view_module_version": "1.5.0",
            "error": "",
            "description_tooltip": null,
            "metadata": [
              {
                "name": "00000005.jpg",
                "type": "image/jpeg",
                "size": 55879,
                "lastModified": 1641982806117
              }
            ],
            "_model_module": "@jupyter-widgets/controls",
            "layout": "IPY_MODEL_627622756cbc4e9897e3a07891758f33",
            "icon": "upload"
          }
        },
        "e116a69545d849e7abb3f62f16162cd7": {
          "model_module": "@jupyter-widgets/controls",
          "model_name": "ButtonModel",
          "model_module_version": "1.5.0",
          "state": {
            "_view_name": "ButtonView",
            "style": "IPY_MODEL_7a76e4ae035a4de3b2891f65959d7db9",
            "_dom_classes": [],
            "description": "Classify",
            "_model_name": "ButtonModel",
            "button_style": "",
            "_view_module": "@jupyter-widgets/controls",
            "_model_module_version": "1.5.0",
            "tooltip": "",
            "_view_count": null,
            "disabled": false,
            "_view_module_version": "1.5.0",
            "layout": "IPY_MODEL_2b6617dcbfd84bcd8e38dbd3216f52b4",
            "_model_module": "@jupyter-widgets/controls",
            "icon": ""
          }
        },
        "32bc86ba723140d696617a572ffeea84": {
          "model_module": "@jupyter-widgets/output",
          "model_name": "OutputModel",
          "model_module_version": "1.0.0",
          "state": {
            "_view_name": "OutputView",
            "msg_id": "",
            "_dom_classes": [],
            "_model_name": "OutputModel",
            "outputs": [
              {
                "output_type": "display_data",
                "data": {
                  "image/png": "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\n",
                  "text/plain": "<PIL.Image.Image image mode=RGB size=128x128 at 0x7F33A5326890>"
                },
                "metadata": {}
              }
            ],
            "_view_module": "@jupyter-widgets/output",
            "_model_module_version": "1.0.0",
            "_view_count": null,
            "_view_module_version": "1.0.0",
            "layout": "IPY_MODEL_eeb46cc2bd3d4f97ba25a2756d15eccc",
            "_model_module": "@jupyter-widgets/output"
          }
        },
        "5328f50dd5434c42936e761a0c5c1b79": {
          "model_module": "@jupyter-widgets/controls",
          "model_name": "LabelModel",
          "model_module_version": "1.5.0",
          "state": {
            "_view_name": "LabelView",
            "style": "IPY_MODEL_01e6b46afa6d491483d1a086de400535",
            "_dom_classes": [],
            "description": "",
            "_model_name": "LabelModel",
            "placeholder": "​",
            "_view_module": "@jupyter-widgets/controls",
            "_model_module_version": "1.5.0",
            "value": "Prediction: teddy; Probability: 0.9999",
            "_view_count": null,
            "_view_module_version": "1.5.0",
            "description_tooltip": null,
            "_model_module": "@jupyter-widgets/controls",
            "layout": "IPY_MODEL_a4515461952543c4be090ab7964efba3"
          }
        },
        "5d4eda8a09924fe5ab83452e41c057b0": {
          "model_module": "@jupyter-widgets/controls",
          "model_name": "DescriptionStyleModel",
          "model_module_version": "1.5.0",
          "state": {
            "_view_name": "StyleView",
            "_model_name": "DescriptionStyleModel",
            "description_width": "",
            "_view_module": "@jupyter-widgets/base",
            "_model_module_version": "1.5.0",
            "_view_count": null,
            "_view_module_version": "1.2.0",
            "_model_module": "@jupyter-widgets/controls"
          }
        },
        "c6d62f093c1c450cb1553c395800b10f": {
          "model_module": "@jupyter-widgets/base",
          "model_name": "LayoutModel",
          "model_module_version": "1.2.0",
          "state": {
            "_view_name": "LayoutView",
            "grid_template_rows": null,
            "right": null,
            "justify_content": null,
            "_view_module": "@jupyter-widgets/base",
            "overflow": null,
            "_model_module_version": "1.2.0",
            "_view_count": null,
            "flex_flow": null,
            "width": null,
            "min_width": null,
            "border": null,
            "align_items": null,
            "bottom": null,
            "_model_module": "@jupyter-widgets/base",
            "top": null,
            "grid_column": null,
            "overflow_y": null,
            "overflow_x": null,
            "grid_auto_flow": null,
            "grid_area": null,
            "grid_template_columns": null,
            "flex": null,
            "_model_name": "LayoutModel",
            "justify_items": null,
            "grid_row": null,
            "max_height": null,
            "align_content": null,
            "visibility": null,
            "align_self": null,
            "height": null,
            "min_height": null,
            "padding": null,
            "grid_auto_rows": null,
            "grid_gap": null,
            "max_width": null,
            "order": null,
            "_view_module_version": "1.2.0",
            "grid_template_areas": null,
            "object_position": null,
            "object_fit": null,
            "grid_auto_columns": null,
            "margin": null,
            "display": null,
            "left": null
          }
        },
        "68b11b4edfb54a8495d4a5075a82e1ec": {
          "model_module": "@jupyter-widgets/controls",
          "model_name": "ButtonStyleModel",
          "model_module_version": "1.5.0",
          "state": {
            "_view_name": "StyleView",
            "_model_name": "ButtonStyleModel",
            "_view_module": "@jupyter-widgets/base",
            "_model_module_version": "1.5.0",
            "_view_count": null,
            "button_color": null,
            "font_weight": "",
            "_view_module_version": "1.2.0",
            "_model_module": "@jupyter-widgets/controls"
          }
        },
        "627622756cbc4e9897e3a07891758f33": {
          "model_module": "@jupyter-widgets/base",
          "model_name": "LayoutModel",
          "model_module_version": "1.2.0",
          "state": {
            "_view_name": "LayoutView",
            "grid_template_rows": null,
            "right": null,
            "justify_content": null,
            "_view_module": "@jupyter-widgets/base",
            "overflow": null,
            "_model_module_version": "1.2.0",
            "_view_count": null,
            "flex_flow": null,
            "width": null,
            "min_width": null,
            "border": null,
            "align_items": null,
            "bottom": null,
            "_model_module": "@jupyter-widgets/base",
            "top": null,
            "grid_column": null,
            "overflow_y": null,
            "overflow_x": null,
            "grid_auto_flow": null,
            "grid_area": null,
            "grid_template_columns": null,
            "flex": null,
            "_model_name": "LayoutModel",
            "justify_items": null,
            "grid_row": null,
            "max_height": null,
            "align_content": null,
            "visibility": null,
            "align_self": null,
            "height": null,
            "min_height": null,
            "padding": null,
            "grid_auto_rows": null,
            "grid_gap": null,
            "max_width": null,
            "order": null,
            "_view_module_version": "1.2.0",
            "grid_template_areas": null,
            "object_position": null,
            "object_fit": null,
            "grid_auto_columns": null,
            "margin": null,
            "display": null,
            "left": null
          }
        },
        "7a76e4ae035a4de3b2891f65959d7db9": {
          "model_module": "@jupyter-widgets/controls",
          "model_name": "ButtonStyleModel",
          "model_module_version": "1.5.0",
          "state": {
            "_view_name": "StyleView",
            "_model_name": "ButtonStyleModel",
            "_view_module": "@jupyter-widgets/base",
            "_model_module_version": "1.5.0",
            "_view_count": null,
            "button_color": null,
            "font_weight": "",
            "_view_module_version": "1.2.0",
            "_model_module": "@jupyter-widgets/controls"
          }
        },
        "2b6617dcbfd84bcd8e38dbd3216f52b4": {
          "model_module": "@jupyter-widgets/base",
          "model_name": "LayoutModel",
          "model_module_version": "1.2.0",
          "state": {
            "_view_name": "LayoutView",
            "grid_template_rows": null,
            "right": null,
            "justify_content": null,
            "_view_module": "@jupyter-widgets/base",
            "overflow": null,
            "_model_module_version": "1.2.0",
            "_view_count": null,
            "flex_flow": null,
            "width": null,
            "min_width": null,
            "border": null,
            "align_items": null,
            "bottom": null,
            "_model_module": "@jupyter-widgets/base",
            "top": null,
            "grid_column": null,
            "overflow_y": null,
            "overflow_x": null,
            "grid_auto_flow": null,
            "grid_area": null,
            "grid_template_columns": null,
            "flex": null,
            "_model_name": "LayoutModel",
            "justify_items": null,
            "grid_row": null,
            "max_height": null,
            "align_content": null,
            "visibility": null,
            "align_self": null,
            "height": null,
            "min_height": null,
            "padding": null,
            "grid_auto_rows": null,
            "grid_gap": null,
            "max_width": null,
            "order": null,
            "_view_module_version": "1.2.0",
            "grid_template_areas": null,
            "object_position": null,
            "object_fit": null,
            "grid_auto_columns": null,
            "margin": null,
            "display": null,
            "left": null
          }
        },
        "01e6b46afa6d491483d1a086de400535": {
          "model_module": "@jupyter-widgets/controls",
          "model_name": "DescriptionStyleModel",
          "model_module_version": "1.5.0",
          "state": {
            "_view_name": "StyleView",
            "_model_name": "DescriptionStyleModel",
            "description_width": "",
            "_view_module": "@jupyter-widgets/base",
            "_model_module_version": "1.5.0",
            "_view_count": null,
            "_view_module_version": "1.2.0",
            "_model_module": "@jupyter-widgets/controls"
          }
        },
        "a4515461952543c4be090ab7964efba3": {
          "model_module": "@jupyter-widgets/base",
          "model_name": "LayoutModel",
          "model_module_version": "1.2.0",
          "state": {
            "_view_name": "LayoutView",
            "grid_template_rows": null,
            "right": null,
            "justify_content": null,
            "_view_module": "@jupyter-widgets/base",
            "overflow": null,
            "_model_module_version": "1.2.0",
            "_view_count": null,
            "flex_flow": null,
            "width": null,
            "min_width": null,
            "border": null,
            "align_items": null,
            "bottom": null,
            "_model_module": "@jupyter-widgets/base",
            "top": null,
            "grid_column": null,
            "overflow_y": null,
            "overflow_x": null,
            "grid_auto_flow": null,
            "grid_area": null,
            "grid_template_columns": null,
            "flex": null,
            "_model_name": "LayoutModel",
            "justify_items": null,
            "grid_row": null,
            "max_height": null,
            "align_content": null,
            "visibility": null,
            "align_self": null,
            "height": null,
            "min_height": null,
            "padding": null,
            "grid_auto_rows": null,
            "grid_gap": null,
            "max_width": null,
            "order": null,
            "_view_module_version": "1.2.0",
            "grid_template_areas": null,
            "object_position": null,
            "object_fit": null,
            "grid_auto_columns": null,
            "margin": null,
            "display": null,
            "left": null
          }
        },
        "eeb46cc2bd3d4f97ba25a2756d15eccc": {
          "model_module": "@jupyter-widgets/base",
          "model_name": "LayoutModel",
          "model_module_version": "1.2.0",
          "state": {
            "_view_name": "LayoutView",
            "grid_template_rows": null,
            "right": null,
            "justify_content": null,
            "_view_module": "@jupyter-widgets/base",
            "overflow": null,
            "_model_module_version": "1.2.0",
            "_view_count": null,
            "flex_flow": null,
            "width": null,
            "min_width": null,
            "border": null,
            "align_items": null,
            "bottom": null,
            "_model_module": "@jupyter-widgets/base",
            "top": null,
            "grid_column": null,
            "overflow_y": null,
            "overflow_x": null,
            "grid_auto_flow": null,
            "grid_area": null,
            "grid_template_columns": null,
            "flex": null,
            "_model_name": "LayoutModel",
            "justify_items": null,
            "grid_row": null,
            "max_height": null,
            "align_content": null,
            "visibility": null,
            "align_self": null,
            "height": null,
            "min_height": null,
            "padding": null,
            "grid_auto_rows": null,
            "grid_gap": null,
            "max_width": null,
            "order": null,
            "_view_module_version": "1.2.0",
            "grid_template_areas": null,
            "object_position": null,
            "object_fit": null,
            "grid_auto_columns": null,
            "margin": null,
            "display": null,
            "left": null
          }
        }
      }
    }
  },
  "nbformat": 4,
  "nbformat_minor": 0
}